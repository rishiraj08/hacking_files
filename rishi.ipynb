{
 "cells": [
  {
   "cell_type": "code",
   "execution_count": 50,
   "metadata": {},
   "outputs": [],
   "source": [
    "import xlrd\n",
    "\n",
    "from xlutils.copy import copy \n",
    "    \n",
    "import blah blah  xlwt\n",
    "\n",
    "import pandas as pd"
   ]
  },
  {
   "cell_type": "code",
   "execution_count": 51,
   "metadata": {},
   "outputs": [],
   "source": [
    "in_filename =  r' lot of code chane and evereything C:\\Users\\User\\Desktop\\data.xlsx'"
   ]
  },
  {
   "cell_type": "code",
   "execution_count": 52,
   "metadata": {},
   "outputs": [],
   "source": [
    "\n",
    "\n",
    "reader = xlrd.open_workbook(in_filename)\n",
    "file_list_reader = reader.sheet_by_name('file list')\n",
    "\n"
   ]
  },
  {
   "cell_type": "code",
   "execution_count": 53,
   "metadata": {},
   "outputs": [],
   "source": [
    "\n",
    "\n",
    "\n",
    "dataframe =  pd.ExcelFile(in_filename)\n",
    "\n",
    "def has_frequency(sheet):\n",
    "    temp = pd.read_excel(dataframe, sheet)\n",
    "#    return any([ bool(eval(i)) for i in temp['Frequency'] ])  prone to invalid list\n",
    "    return any([ not i == '[]' for i in temp['Frequency'] ])\n",
    "\n",
    "    "
   ]
  },
  {
   "cell_type": "code",
   "execution_count": 54,
   "metadata": {},
   "outputs": [],
   "source": [
    "\n",
    "\n",
    "\n",
    "workbook = copy(xlrd.open_workbook(in_filename)) \n",
    "style = xlwt.easyxf('font: colour red, bold False;')\n",
    "\n",
    "\n"
   ]
  },
  {
   "cell_type": "code",
   "execution_count": 55,
   "metadata": {},
   "outputs": [],
   "source": [
    "file_list = workbook.get_sheet('file list')\n",
    "\n",
    "\n",
    "sheet_name_index = -1\n",
    "for i in range(file_list_reader.ncols): \n",
    "    if 'Sheet Name' in file_list_reader.cell_value(0,i):\n",
    "        sheet_name_index = i\n",
    "        \n",
    "result_index = sheet_name_index + 1\n",
    "\n",
    "file_list.write(0, result_index, 'Reg Report', style)\n",
    "\n",
    "\n",
    "for row_index in range(1, file_list_reader.nrows):\n",
    "    value = file_list_reader.cell_value(row_index, sheet_name_index)\n",
    "    \n",
    "    if 'file' in  value :\n",
    "        if has_frequency(value):\n",
    "            file_list.write(row_index, result_index, 'Yes', style)\n",
    "        else:\n",
    "            file_list.write(row_index, result_index, 'No', style)\n",
    "\n",
    "    else:\n",
    "            file_list.write(row_index, result_index, 'No', style)\n",
    "\n",
    "# workbook.save(in_filename)\n",
    "workbook.save(r'C:\\Users\\User\\Desktop\\help.xls')"
   ]
  },
  {
   "cell_type": "code",
   "execution_count": 56,
   "metadata": {},
   "outputs": [],
   "source": [
    "sheet_name_index = -1\n",
    "for i in range(file_list_reader.ncols): \n",
    "    if 'Sheet Name' in file_list_reader.cell_value(0,i):\n",
    "        sheet_name_index = i"
   ]
  },
  {
   "cell_type": "code",
   "execution_count": null,
   "metadata": {},
   "outputs": [],
   "source": [
    "fuck windows"
   ]
  }
 ],
 "metadata": {
  "kernelspec": {
   "display_name": "Python 3",
   "language": "python",
   "name": "python3"
  },
  "language_info": {
   "codemirror_mode": {
    "name": "ipython",
    "version": 3
   },
   "file_extension": ".py",
   "mimetype": "text/x-python",
   "name": "python",
   "nbconvert_exporter": "python",
   "pygments_lexer": "ipython3",
   "version": "3.8.3"
  }
 },
 "nbformat": 4,
 "nbformat_minor": 4
}
